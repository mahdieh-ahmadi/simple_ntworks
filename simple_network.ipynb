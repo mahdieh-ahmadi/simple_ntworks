{
 "cells": [
  {
   "cell_type": "code",
   "execution_count": 1,
   "metadata": {},
   "outputs": [],
   "source": [
    "import numpy as np\n",
    "import tensorflow as tf\n",
    "\n",
    "Input = tf.keras.Input\n",
    "Dense = tf.keras.layers.Dense\n",
    "Model = tf.keras.Model"
   ]
  },
  {
   "cell_type": "code",
   "execution_count": 2,
   "metadata": {},
   "outputs": [],
   "source": [
    "x_train = np.array([[0.2,0.3,0.01]])"
   ]
  },
  {
   "cell_type": "code",
   "execution_count": 3,
   "metadata": {},
   "outputs": [
    {
     "name": "stdout",
     "output_type": "stream",
     "text": [
      "tf.Tensor([[0.33333334 0.33333334 0.33333334]], shape=(1, 3), dtype=float32)\n"
     ]
    }
   ],
   "source": [
    "\"\"\"  weight should be is size : row= number of inputs , column = number of output => [input,output]\"\"\"\n",
    "\"\"\" if all weight be same together and activation function is softmax output is: 100/n that n is number of output \"\"\"\n",
    "\"\"\" but if the activation function isn't softmax all the outputs are the same but aren't 100/n\"\"\"\n",
    "\n",
    "init_weight = tf.constant_initializer([[1,1,1],[1,1,1],[1,1,1]])\n",
    "layer_1 = Dense(3, activation='softmax', kernel_initializer=init_weight)(x_train)\n",
    "\n",
    "print(layer_1)"
   ]
  },
  {
   "cell_type": "code",
   "execution_count": 4,
   "metadata": {},
   "outputs": [
    {
     "name": "stdout",
     "output_type": "stream",
     "text": [
      "tf.Tensor([[0.7231435]], shape=(1, 1), dtype=float32)\n"
     ]
    }
   ],
   "source": [
    "input_layer = Input(shape=(3,))\n",
    "layer_1 = Dense(6, activation='sigmoid')(input_layer)\n",
    "layer_2 = Dense(3, activation='relu')(layer_1)\n",
    "output_layer = Dense(1 , activation='sigmoid')(layer_2)\n",
    "\n",
    "\"\"\" model just accept input and output layer \"\"\"\n",
    "model = Model(input_layer,output_layer)\n",
    "prediction = model(x_train)\n",
    "print(prediction)"
   ]
  }
 ],
 "metadata": {
  "kernelspec": {
   "display_name": "Python 3.10.5 64-bit",
   "language": "python",
   "name": "python3"
  },
  "language_info": {
   "codemirror_mode": {
    "name": "ipython",
    "version": 3
   },
   "file_extension": ".py",
   "mimetype": "text/x-python",
   "name": "python",
   "nbconvert_exporter": "python",
   "pygments_lexer": "ipython3",
   "version": "3.10.5"
  },
  "orig_nbformat": 4,
  "vscode": {
   "interpreter": {
    "hash": "369f2c481f4da34e4445cda3fffd2e751bd1c4d706f27375911949ba6bb62e1c"
   }
  }
 },
 "nbformat": 4,
 "nbformat_minor": 2
}
