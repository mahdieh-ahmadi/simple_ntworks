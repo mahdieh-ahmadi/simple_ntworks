{
 "cells": [
  {
   "cell_type": "code",
   "execution_count": 27,
   "metadata": {},
   "outputs": [],
   "source": [
    "import numpy as np\n",
    "import tensorflow as tf\n",
    "\n",
    "Input = tf.keras.Input\n",
    "Dense = tf.keras.layers.Dense\n",
    "Model = tf.keras.Model\n",
    "Sequential = tf.keras.Sequential\n",
    "SparseCategoricalCrossEntropy = tf.keras.losses.SparseCategoricalCrossentropy\n",
    "BinaryCrossEntropy = tf.keras.losses.BinaryCrossentropy\n"
   ]
  },
  {
   "cell_type": "code",
   "execution_count": 3,
   "metadata": {},
   "outputs": [],
   "source": [
    "x_train = np.array([[0.2,0.3,0.01]])"
   ]
  },
  {
   "cell_type": "code",
   "execution_count": 4,
   "metadata": {},
   "outputs": [
    {
     "name": "stdout",
     "output_type": "stream",
     "text": [
      "tf.Tensor([[0.33333334 0.33333334 0.33333334]], shape=(1, 3), dtype=float32)\n"
     ]
    }
   ],
   "source": [
    "\"\"\"  weight should be is size : row= number of inputs , column = number of output => [input,output]\"\"\"\n",
    "\"\"\" if all weight be same together and activation function is softmax output is: 100/n that n is number of output \"\"\"\n",
    "\"\"\" but if the activation function isn't softmax all the outputs are the same but aren't 100/n\"\"\"\n",
    "\n",
    "init_weight = tf.constant_initializer([[1,1,1],[1,1,1],[1,1,1]])\n",
    "layer_1 = Dense(3, activation='softmax', kernel_initializer=init_weight)(x_train)\n",
    "\n",
    "print(layer_1)"
   ]
  },
  {
   "cell_type": "code",
   "execution_count": 5,
   "metadata": {},
   "outputs": [
    {
     "name": "stdout",
     "output_type": "stream",
     "text": [
      "tf.Tensor([[0.5735392]], shape=(1, 1), dtype=float32)\n"
     ]
    }
   ],
   "source": [
    "input_layer = Input(shape=(3,))\n",
    "layer_1 = Dense(6, activation='sigmoid')(input_layer)\n",
    "layer_2 = Dense(3, activation='relu')(layer_1)\n",
    "output_layer = Dense(1 , activation='sigmoid')(layer_2)\n",
    "\n",
    "\"\"\" model just accept input and output layer \"\"\"\n",
    "model = Model(input_layer,output_layer)\n",
    "prediction = model(x_train)\n",
    "print(prediction)"
   ]
  },
  {
   "cell_type": "code",
   "execution_count": 21,
   "metadata": {},
   "outputs": [],
   "source": [
    "# logistic regression model\n",
    "\n",
    "model = Sequential([\n",
    "    Dense(units=10, activation = \"relu\"),\n",
    "    Dense(units=5, activation = \"relu\"),\n",
    "    Dense(units=3, activation = \"sigmoid\"),\n",
    "])\n",
    "\n",
    "model.compile(loss=BinaryCrossEntropy())"
   ]
  },
  {
   "cell_type": "code",
   "execution_count": 22,
   "metadata": {},
   "outputs": [],
   "source": [
    "# softmax regression model\n",
    "\n",
    "model = Sequential([\n",
    "    Dense(units=10, activation = \"relu\"),\n",
    "    Dense(units=5, activation = \"relu\"),\n",
    "    Dense(units=3, activation = \"softmax\"),\n",
    "])\n",
    "\n",
    "model.compile(loss=SparseCategoricalCrossEntropy())"
   ]
  },
  {
   "cell_type": "markdown",
   "metadata": {},
   "source": [
    "<p>Because of some uncertainly in numerical calculation in python is better to use other way to define model. </p>\n",
    "<p>in this way we have more accurate number</p>"
   ]
  },
  {
   "cell_type": "code",
   "execution_count": null,
   "metadata": {},
   "outputs": [],
   "source": [
    "# more accurate logistic regression model\n",
    "\n",
    "model = Sequential([\n",
    "    Dense(units=10, activation = \"relu\"),\n",
    "    Dense(units=5, activation = \"relu\"),\n",
    "    Dense(units=3, activation = \"linear\"), # linear activation function in last layer instead of sigmoid\n",
    "])\n",
    "\n",
    "model.compile(loss=BinaryCrossEntropy(from_logits=True))"
   ]
  },
  {
   "cell_type": "code",
   "execution_count": 28,
   "metadata": {},
   "outputs": [],
   "source": [
    "# more accurate softmax regression model\n",
    "\n",
    "model = Sequential([\n",
    "    Dense(units=10, activation = \"relu\"),\n",
    "    Dense(units=5, activation = \"relu\"),\n",
    "    Dense(units=3, activation = \"linear\"), # linear activation function in last layer instead of sigmoid\n",
    "])\n",
    "\n",
    "model.compile(loss=SparseCategoricalCrossEntropy(from_logits=True))"
   ]
  }
 ],
 "metadata": {
  "kernelspec": {
   "display_name": "Python 3.10.5 64-bit",
   "language": "python",
   "name": "python3"
  },
  "language_info": {
   "codemirror_mode": {
    "name": "ipython",
    "version": 3
   },
   "file_extension": ".py",
   "mimetype": "text/x-python",
   "name": "python",
   "nbconvert_exporter": "python",
   "pygments_lexer": "ipython3",
   "version": "3.10.5"
  },
  "orig_nbformat": 4,
  "vscode": {
   "interpreter": {
    "hash": "369f2c481f4da34e4445cda3fffd2e751bd1c4d706f27375911949ba6bb62e1c"
   }
  }
 },
 "nbformat": 4,
 "nbformat_minor": 2
}
